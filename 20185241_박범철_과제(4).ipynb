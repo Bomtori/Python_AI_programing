{
  "nbformat": 4,
  "nbformat_minor": 0,
  "metadata": {
    "colab": {
      "provenance": [],
      "collapsed_sections": []
    },
    "kernelspec": {
      "name": "python3",
      "display_name": "Python 3"
    },
    "language_info": {
      "name": "python"
    }
  },
  "cells": [
    {
      "cell_type": "code",
      "execution_count": null,
      "metadata": {
        "colab": {
          "base_uri": "https://localhost:8080/"
        },
        "id": "2TBOGeorhpiC",
        "outputId": "91ed49bf-b02b-42c2-e91c-9533eb891860"
      },
      "outputs": [
        {
          "output_type": "stream",
          "name": "stdout",
          "text": [
            "Hello Python\n",
            "Hello Python\n",
            "Python Hello\n"
          ]
        }
      ],
      "source": [
        "#문제 P00-0020\n",
        "aa, bb = input().split()\n",
        "print(aa, bb)\n",
        "\n",
        "temp = aa\n",
        "aa = bb\n",
        "bb = temp\n",
        "\n",
        "print(aa, bb)"
      ]
    },
    {
      "cell_type": "code",
      "source": [
        "#문제 P00-0023\n",
        "str1 = input()\n",
        "print(str1)\n",
        "\n",
        "str2 = str1[1:len(str1)] + str1[0]\n",
        "\n",
        "print(str2)"
      ],
      "metadata": {
        "id": "XKq08jpyigIF",
        "colab": {
          "base_uri": "https://localhost:8080/"
        },
        "outputId": "8e9a450d-f368-4c10-c2e8-ead3e91d06dc"
      },
      "execution_count": 16,
      "outputs": [
        {
          "output_type": "stream",
          "name": "stdout",
          "text": [
            "Hello World\n",
            "Hello World\n",
            "ello WorldH\n"
          ]
        }
      ]
    },
    {
      "cell_type": "code",
      "source": [
        "#문제 P00-0024\n",
        "str1 = input()\n",
        "print(str1)\n",
        "\n",
        "def myshift_left(str1):\n",
        "  a = \"\"\n",
        "  for i in range(1,len(str1)):\n",
        "    a += str1[i]\n",
        "  a += str1[0]\n",
        "  return a\n",
        "\n",
        "print(myshift_left(str1))"
      ],
      "metadata": {
        "id": "dU5-eUEpjhN7",
        "colab": {
          "base_uri": "https://localhost:8080/"
        },
        "outputId": "8c359a8e-5156-4713-b3a9-00deac88b0c6"
      },
      "execution_count": 38,
      "outputs": [
        {
          "output_type": "stream",
          "name": "stdout",
          "text": [
            "Hello World\n",
            "Hello World\n",
            "ello WorldH\n"
          ]
        }
      ]
    },
    {
      "cell_type": "code",
      "source": [
        "#문제 P00-0025\n",
        "str1 = input()\n",
        "print(str1)\n",
        "\n",
        "def myshift_right(str1):\n",
        "  a = \"\"\n",
        "  a += str1[-1]\n",
        "  for i in range(0,len(str1) - 1):\n",
        "    a += str1[i]\n",
        "  return a\n",
        "\n",
        "print(myshift_right(str1))"
      ],
      "metadata": {
        "colab": {
          "base_uri": "https://localhost:8080/"
        },
        "id": "HH8JSURUlJm8",
        "outputId": "7689c73d-6da8-4b70-c47f-07ce0b9d3f7f"
      },
      "execution_count": 44,
      "outputs": [
        {
          "output_type": "stream",
          "name": "stdout",
          "text": [
            "Hello World\n",
            "Hello World\n",
            "dHello Worl\n"
          ]
        }
      ]
    },
    {
      "cell_type": "code",
      "source": [
        "#문제 P00-0028\n",
        "lt1 = input().split() \n",
        "str1 = lt1[0] \n",
        "nn = lt1[1] if len(lt1) >=2 else 0 \n",
        "print(str1) \n",
        "\n",
        "def myshift(s, n = 0):\n",
        "    if n > 0:\n",
        "        for i in range(n):\n",
        "            s = s[1:] + s[0]\n",
        "    else:\n",
        "        n *= -1\n",
        "        l = len(s)\n",
        "        for i in range(n):\n",
        "            s = s[l - 1] + s[:(l - 1)]\n",
        "    return s\n",
        "\n",
        "print(myshift(str1, int(nn)))"
      ],
      "metadata": {
        "colab": {
          "base_uri": "https://localhost:8080/"
        },
        "id": "cztCT2rtlp4a",
        "outputId": "0514c691-7def-4e4b-ac72-8e830145bad2"
      },
      "execution_count": 24,
      "outputs": [
        {
          "output_type": "stream",
          "name": "stdout",
          "text": [
            "123456789 2\n",
            "123456789\n",
            "345678912\n"
          ]
        }
      ]
    },
    {
      "cell_type": "code",
      "source": [
        "#문제 P00-0030\n",
        "s = input()\n",
        "\n",
        "# 1\n",
        "for c in reversed(s):\n",
        "    print(c, end='')\n",
        "print()\n"
      ],
      "metadata": {
        "colab": {
          "base_uri": "https://localhost:8080/"
        },
        "id": "B66y0Cg2lp92",
        "outputId": "16ab8df7-adae-4e2a-83c7-3b874012673f"
      },
      "execution_count": 49,
      "outputs": [
        {
          "output_type": "stream",
          "name": "stdout",
          "text": [
            "Hello World\n",
            "dlroW olleH\n"
          ]
        }
      ]
    },
    {
      "cell_type": "code",
      "source": [
        "#문제 P00-0030\n",
        "s = input()\n",
        "\n",
        "# 2\n",
        "print(s[::-1])"
      ],
      "metadata": {
        "id": "YcVQXsjHrjls"
      },
      "execution_count": null,
      "outputs": []
    },
    {
      "cell_type": "code",
      "source": [
        "#문제 P00-0030\n",
        "s = input()\n",
        "\n",
        "# 3\n",
        "r_s = ''\n",
        "for c in s:\n",
        "    r_s = c + r_s\n",
        "print(r_s)\n"
      ],
      "metadata": {
        "id": "6kRn0xy2rooU"
      },
      "execution_count": null,
      "outputs": []
    },
    {
      "cell_type": "code",
      "source": [
        "#문제 P00-0035\n",
        "txt = input()\n",
        "result = sorted(txt)\n",
        "result1 = ''.join(s for s in result)\n",
        "print(result1)"
      ],
      "metadata": {
        "colab": {
          "base_uri": "https://localhost:8080/"
        },
        "id": "wwhOAeCblqD2",
        "outputId": "72ae7240-12f0-4244-8109-59e5f215f972"
      },
      "execution_count": 35,
      "outputs": [
        {
          "output_type": "stream",
          "name": "stdout",
          "text": [
            "123HelloWorld\n",
            "123HWdellloor\n"
          ]
        }
      ]
    },
    {
      "cell_type": "code",
      "source": [],
      "metadata": {
        "id": "Ki29V7uDi5Zj"
      },
      "execution_count": null,
      "outputs": []
    }
  ]
}