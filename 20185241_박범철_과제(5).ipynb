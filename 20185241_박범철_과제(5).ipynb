{
  "nbformat": 4,
  "nbformat_minor": 0,
  "metadata": {
    "colab": {
      "provenance": []
    },
    "kernelspec": {
      "name": "python3",
      "display_name": "Python 3"
    },
    "language_info": {
      "name": "python"
    }
  },
  "cells": [
    {
      "cell_type": "markdown",
      "source": [
        "#Chapter01\n"
      ],
      "metadata": {
        "id": "rmwiRvl-S1mK"
      }
    },
    {
      "cell_type": "markdown",
      "source": [
        "\n",
        "### 01. 지능을 정의해보자. 지능의 핵심적인 요소는 무엇인가?\n",
        "\n",
        "- 지능이란 인간의 지적능력을 말한다. 지능은 다음과 같은 2가지의 능력으로 설명되어 있다.\n",
        "1. 인간이 사물을 이해하고 학습하는 능력(Learning)\n",
        "2. 어떤 문제가 주어졌을 때, 합리적으로 사고하여 문제를 해결하는 능력\n",
        "- 지능의 핵심적인 요소로는 학습, 문제해결, 빅데이터, 추론 등이 있다."
      ],
      "metadata": {
        "id": "faFt8x7xkKpu"
      }
    },
    {
      "cell_type": "markdown",
      "source": [
        "### 02. 튜링 테스트(Turing test)란 무엇인가? 튜링 테스트는 인공지능의 타당한 테스트일까?\n",
        "\n",
        "- 튜링 테스트는 튜링 엘런이 시행한 테스트이며, '기계가 지능을 가지고 있는가?'에 대한 테스트이다. \n",
        "인간, 컴퓨터, 질문자가 각각 독립된 방에 있고 원격 터미널만을 사용하여 누가 컴퓨터인지를 알아내는 테스트이다.\n",
        "- 심판이 인간, 기계에게 채팅으로 질문을 하고 답을 통해 인간과 기계를 구분할 수 없다고 정의되면, '기계는 생각하고 있다' 라고 정의내린다. 튜링 테스트가 인공지능의 타당한 테스트는 '인공지능'을 어떻게 정의하냐에 따라 타당할 수도 아닐 수도 있다."
      ],
      "metadata": {
        "id": "tpDGJOLXkPcM"
      }
    },
    {
      "cell_type": "markdown",
      "source": [
        "### 03. 인공지능이 유용하게 사용될 수 있는 분야를 구체적으로 몇 가지를 지적해보자.\n",
        "- 인공지능이 유용하게 사용될 수 있는 분야는 의학, 검색, 언어, 자동차, 광고 등등 많은 부분에서 인공지능이 사용된다.\n",
        "1. 자동차 : 자율주행 자동차는 거의 무한한 시나리오로 주행할 수 있다. 인공지능 자동차로 인해 인간의 실수 때문에 발생하는 교통사고를 낼 확률이 적어진다.\n",
        "2. 의학 : 머신러닝을 이용해 의료 영상을 검토하여 종양을 발견하고 병리보고서를 기반해 진단을 내리는데 사용된다.\n",
        "3. 검색 : 검색 엔진이 직관적으로 판단을 해줌으로써 사용자가 결정을 내리는 시간을 절약하는데 도움을 줄뿐만 아니라, 관련성 높은 광고를 표시할 수 있는 기회를 제공해준다."
      ],
      "metadata": {
        "id": "wQoD-lC7k9iE"
      }
    },
    {
      "cell_type": "markdown",
      "source": [
        "### 04. 인공지능 연구는 두 번의 시련기를 겪었다. 무엇이 문제였는가? 정리해보자.\n",
        "- 첫번째는 1970년대 일반인들의 높은 기대치에 반해 약속된 결과가 실현되지 않자, 자금 지원이 사라졌다.\n",
        "- 두번째는 1980년대 후반 Apple과 IBM의 데스크탑 컴퓨터는 꾸준히 성능을 증가시켰다. 비싼 인공지능 Lisp 컴퓨터보다 더 강력해진 컴퓨터들은 유지 비용이 많이 드는 Lisp컴퓨터를 구매할 이유가 사라졌다."
      ],
      "metadata": {
        "id": "7hd0SdIMppUh"
      }
    },
    {
      "cell_type": "markdown",
      "source": [
        "### 05. 전문가 시스템이 이전의 GPS(General Problem Solver)와 다른 점은 무엇인가?\n",
        "- GPS는 현재 상태에서 연산자를 조합하여 목적 상태로 갈 때까지 탐색하는 방벙으로 복잡한 문제의 경우 조합 폭발이 발생한다.\n",
        "- 이와 반대로 전문가 시스템은 문제 영역을 제한한채로 전문가로부터 습득한 규칙을 이용하여 문제를 해결하는 방법이다."
      ],
      "metadata": {
        "id": "XkTt8s-Oq9m4"
      }
    },
    {
      "cell_type": "markdown",
      "source": [
        "### 06. 머신러닝은 무엇이고 인공지능과는 어떤 관련이 있는가?\n",
        "- 머신러닝은 인공지능의 한 분야이다.\n",
        "- 머신러닝은 기계에 학습을 통해 지능을 부여한다는 방법이다."
      ],
      "metadata": {
        "id": "8oF5qzMTrXpm"
      }
    },
    {
      "cell_type": "markdown",
      "source": [
        "### 07. 딥러닝은 무엇이고 인공지능, 머신러닝과는 어떤 관련이 있는가?\n",
        "- 딥러닝은 머신러닝의 한 분야이다.\n",
        "- 딥러닝은 신경망 구조를 통해 학습을 한다는 방법이다.\n",
        "- 인공지능 -> 머신러닝 -> 딥러닝"
      ],
      "metadata": {
        "id": "hSQUflBxrol8"
      }
    },
    {
      "cell_type": "markdown",
      "source": [
        "### 08. 신경망과 딥러닝은 어떤 관계인가?\n",
        "- 딥러닝은 인간의 신경망 구조를 본따서 만든 모델이다."
      ],
      "metadata": {
        "id": "AcbCp0RBr_G2"
      }
    },
    {
      "cell_type": "markdown",
      "source": [
        "### 09. 인공신경망이란 무엇이고, 인공지능과는 어떤 관련이 있는가?\n",
        "- 인공신경망은 생물학의 신경망에서 영감을 얻은 학습 알고리즘이다.\n",
        "- 딥러닝에 속한 인공신경망은 다시 연구 측면에서 인공지능의 전체중 머신러닝의 한 부 분에 해당한다. 바꿔 말하면 인공지능에는 머신러닝에 속한 인공신경망과 직접적인 연결성을 띄고있다."
      ],
      "metadata": {
        "id": "vT30tYI5sIRD"
      }
    },
    {
      "cell_type": "markdown",
      "source": [
        "### 10. 인공신경망이 처음 등장한 것은 언제였는가?\n",
        "- 1943년 Warren McCulloch과 Walter Pits는 뉴런들의 간단한 네트워크를 분석하고 이것을 간단한 논리 기능을 수행함 수 있음을 보여주었다. 이것이 인공신경망이라고 나중에 부르게 된다."
      ],
      "metadata": {
        "id": "wK_t4VGutAB5"
      }
    },
    {
      "cell_type": "markdown",
      "source": [
        "### 11. 인공신경망의 초기 형태인 ()을 Frank Rosenbiatt가 개발하였다.\n",
        "- 퍼셉트론(perceptrons)"
      ],
      "metadata": {
        "id": "hufiuHnAtXaA"
      }
    },
    {
      "cell_type": "markdown",
      "source": [
        "### 12. 인공지능이 인간을 능가하였던 몇가지의 최근 사건을 들어보라.\n",
        "- 알파고가 이세돌 9단을 바둑으로 이긴 사건.\n"
      ],
      "metadata": {
        "id": "IkqcYTl6wFuL"
      }
    },
    {
      "cell_type": "markdown",
      "source": [
        "### 13. 최근 뉴스 중에서 인공지능을 언급한 기사를 하나 선택하라. 기사에서 언급된 문제를 해결하는 데 인공지능이 어떤 역할을 했는지 또는 그러한 문제에서 인공지능을 사용하는 방법을 간략하게 설명하여라.\n",
        "- AI가 기자보다 기사를 잘 쓴다?\n",
        "- AI가 쓰는 기사는 데이터 수집, 이벤트 추출, 중요 이벤트 선별, 기사의 분위기 결정, 기사 생성의 단계로 이루어진다. 이 같은 알고리즘으로 '언제나 옳을 가능성'이 있는 기사를 뽑아내기 때문에 주제에 한해서는 변수도 크게 없다. 단 1초 만에 완성도 높은 기사를 쓰기 때문에 효용도 좋다."
      ],
      "metadata": {
        "id": "HB69OJ8PwTOv"
      }
    },
    {
      "cell_type": "markdown",
      "source": [
        "### 14. 외국어를 번역하는 것이 지금도 참 어려운 문제이다. 왜 번역 문제가 이렇게 어려운 것인가?\n",
        "- 충분한 데이터가 축적되지 않으면 번역 품질이 떨어지고, 특히 어순과 문법 구조가 다른 언어를 번역하기 어렵다는 점이 있다."
      ],
      "metadata": {
        "id": "JfcFUuTNxPKb"
      }
    },
    {
      "cell_type": "markdown",
      "source": [
        "### 15. 알란 튜링의 일대기를 그린 영화 \"이미테이션 게임\"을 보고 감상문을 제출하라. 튜링의 업적은 무엇인가?\n",
        "- 이미테이션 게임에서 나치 독일의 암호(애그니마 암호 해독)를 해석하기위해 컴퓨터와 비슷한 기계를 만들어 연합군의 승리로 이끌어 냈다. 하지만 기밀유지 때문에 프로젝트 참가자들은 명예만 가지고 언론에 보도되지 못했다.\n",
        "-알고리즘과 계산 개념을 튜링 기계라는 추상 모델을 통해 형식화함으로써 컴퓨터 과학의 발전에 지대한 공헌을 했다.\n",
        "- 업적) 에그니마 암호 해독, 튜링 기계 개발"
      ],
      "metadata": {
        "id": "dCr46Gpf1TOZ"
      }
    },
    {
      "cell_type": "markdown",
      "source": [
        "### 16. \"컴퓨터는 프로그래머가 지시한 것만 할 수 있기 때문에 컴퓨터는 지능적일 수 없다.\"는 논리에 대해서는 어떻게 생각하는가?\n",
        "- 인공지능이라 함은 인공적으로 만들어진 지능이라고 정의된다. 지능을 가지고 지시한 이외의 작업을 하는 것은 하나의 생명체로 봐도 무방하다. 그것은 더 이상 컴퓨터라는 하나의 객체로 볼 수 없다."
      ],
      "metadata": {
        "id": "vsekS1DJ2SAn"
      }
    },
    {
      "cell_type": "markdown",
      "source": [
        "#Chapter 03"
      ],
      "metadata": {
        "id": "9BpW4pI12vrD"
      }
    },
    {
      "cell_type": "markdown",
      "source": [
        "### 01. 머신러닝은 어떤 분야에 적용하는 것이 좋을까? 예를 들어서 몇 개의 분야를 나열해보자. 어떤 공통적인 특징이 있는가?\n",
        "- 머신러닝의 대표적인 적용 사례로는 이미지 분류, 시맨틱 분할, 텍스트 분류가 있다.\n",
        "- 공통적인 특징으로는 각각의 특성을 파악해 분류, 분할을 한다."
      ],
      "metadata": {
        "id": "EOF4NPVW201O"
      }
    },
    {
      "cell_type": "markdown",
      "source": [
        "### 02. 인공지능, 머신러닝, 딥러닝의 관계는 어떻게 될까?\n",
        "- 인공지능 -> 머신러닝 -> 딥러닝으로 관계된다."
      ],
      "metadata": {
        "id": "PIEC0Xxh4bUH"
      }
    },
    {
      "cell_type": "markdown",
      "source": [
        "### 03. 머신러닝의 역사를 정리해보자. (다시)\n",
        "- 머신러닝은 1959년 아서 리 사무엘(Arthur Lee Samuel)이 '머신러닝'이란 용어를 정의 했으며, 1950년대 연구자들이 기계가 데이터로 학습하는 것에 대해 관심을 가졌다. 이때 신경망의 한 종류인 퍼셉트론을 주로 연구하였으며 이것은 차후 딥러닝의 기반이 된다. 하지만 지식 기반 접근법이 인기를 얻으며 인공지능과 멀어지게 되었다. 1980년대 지속적으로 연구해오던 연구자들에 의해 오차 역전파 학습 알고리즘이 재발견되었고 1990년대에는 독립적인 분야로 재편되었다. 2010년부터는 신경망을 업그레이드 시킨 딥러닝이 인기를 끌었고 이후 영상 분류 경진 대회에 딥러닝이 압도적인 차이로 우승해 머신러닝을 주도하게 되었다."
      ],
      "metadata": {
        "id": "fgrhU2vw4rL9"
      }
    },
    {
      "cell_type": "markdown",
      "source": [
        "### 04. 머신러닝은 \"교사\"의 존재 여부에 따라 크게 (1)학습과 (2)학습으로 나누어진다.\n",
        "1. 지도\n",
        "2. 비지도"
      ],
      "metadata": {
        "id": "F6L88vhW6Ahr"
      }
    },
    {
      "cell_type": "markdown",
      "source": [
        "### 05. 머신러닝에서 학습(훈련) 데이터와 테스트 데이터가 하는 역할은 무엇인가?\n",
        "- 훈련 데이터 : 머신러닝에서 프로그램의 학습을 담당\n",
        "- 테스트 데이터 : 훈련 데이터를 통해 학습된 프로그램을 검증하는 담당"
      ],
      "metadata": {
        "id": "Y0ybzq1T6Sx4"
      }
    },
    {
      "cell_type": "markdown",
      "source": [
        "### 06. 머신러닝에서 특징은 무엇을 의미하는가?\n",
        "- 비지도학습에서 기계가 학습하는 패턴"
      ],
      "metadata": {
        "id": "PmcL6A6E6qXx"
      }
    },
    {
      "cell_type": "markdown",
      "source": [
        "### 07. 머신러닝은 크게 (1)와 (2)로 나눌 수 있다.\n",
        "1. 분류\n",
        "2. 회귀"
      ],
      "metadata": {
        "id": "H6nB6PTy6xc5"
      }
    },
    {
      "cell_type": "markdown",
      "source": [
        "### 08. 학습이 입력(x)과 출력(Y)이 주어질 때, 입력에서 출력으로의 매핑 함수를 학습하는 것이람면 회귀에서는 x와 y의 형태가 어떻게 되는가?\n",
        "- $$ y = f(x) $$"
      ],
      "metadata": {
        "id": "rB4CxpgP66Jp"
      }
    },
    {
      "cell_type": "markdown",
      "source": [
        "### 09. 분류에서는 x와 y의 형태가 어떻게 되는가?\n",
        "- $$y = f(x)$$에서 $$y$$가 이산적(연속적이지 않음)"
      ],
      "metadata": {
        "id": "jqZ3I8Wt7aCi"
      }
    },
    {
      "cell_type": "markdown",
      "source": [
        "### 10. 실생활에서 사용되는 회귀와 분류의 예를 들어보자.\n",
        "- 분류\n",
        "  - 이미지 분류 : 제품 생산 시 제품의 이미지를 분석해 자동으로 분류하는 시스템\n",
        "  - 텍스트 분류 : 자동으로 뉴스, 블로그 등의 게시글 분류\n",
        "- 회귀\n",
        "  - 기상 데이터가 주어졌을 때 내일 기온 예측\n",
        "  - 소프트웨어 명세가 주어졌을 때 프로젝트 완료될 시간 예측"
      ],
      "metadata": {
        "id": "J40WKZNT7xyn"
      }
    },
    {
      "cell_type": "markdown",
      "source": [
        "### 11. 강화 학습에서는 무엇을 가지고 학습을 시키는가?\n",
        "- 강화학습에는 '처벌'과 '보상'이 주어진다.\n",
        "이는 프로그램의 행동에 따라 다른 피드백이 주어진다."
      ],
      "metadata": {
        "id": "dqje15cG879P"
      }
    },
    {
      "cell_type": "markdown",
      "source": [
        "### 12. 비지도 학습은 어떻게 \"교사\" 없이 입력들을 분류하는가?\n",
        "- 비지도 학습은 데이터들의 '패턴'을 찾아내 입력들을 분류한다."
      ],
      "metadata": {
        "id": "1CSDPZdU9NEy"
      }
    },
    {
      "cell_type": "markdown",
      "source": [
        "### 13. 한 온라인 신발가게에서 사용자에게 맞춤형 신발을 추천하는 머신러닝 모델을 만들려고 한다. 어떤 머신러닝 모델을 사용해야하는가? 이것은 회귀인가? 분류인가?\n",
        "- 사용자에게 '맞춤형' 신발을 추천하기 위해서는 '회귀'를 사용한 머신러닝 모델을 사용해야한다."
      ],
      "metadata": {
        "id": "KRDcCaj79Wvw"
      }
    },
    {
      "cell_type": "markdown",
      "source": [
        "### 14. 주어진 이메일이 '스팸'인지 '스팸이 아닌지' 예측하기 위해 머신러닝 모델을 개발한다고 하자 출력 (y)이 가질 수 있는 레이블은 어떻게 될까?\n",
        "- 스팸을 구분하기 위해 출력(y)는\n",
        "  1. 스팸이다\n",
        "  2. 스팸이 이니다 <Br>\n",
        "라는 2개의 레이블을 가진다."
      ],
      "metadata": {
        "id": "gdKOQqye9o7D"
      }
    },
    {
      "cell_type": "markdown",
      "source": [
        "#Chapter 04"
      ],
      "metadata": {
        "id": "_Hip8Jwx-f5v"
      }
    },
    {
      "cell_type": "markdown",
      "source": [
        "###1. 선형 회귀는 주로 독립 변수와 종속 변수 간에 선형적인 관계가 성립할 때 많이 사용된다. 다음 중에서 선형 회귀로 예측하기 어려운 문제는 어떤 문제인가?\n",
        "1. 온도와 출생률\n",
        "2. 공부 시간과 성적\n",
        "3. 체중과 달리기 기록\n",
        "\n",
        "- 온도와 출생률, 직접적인 연결성을 띄지 않고 관계성이 뚜렷하지 않기 때문에 선형 회귀로 예측하기 어렵다."
      ],
      "metadata": {
        "id": "fIiFKYJF-qUo"
      }
    },
    {
      "cell_type": "markdown",
      "source": [
        "###2. 다음의 2개의 데이터 세트 중 MSE(평균 제곱 오차)가 더 높은 것은 무엇인가?\n",
        "- MSE(평균 제곱 오차)는 실제 데이터와 직선 간의 차이를 제곱한 것들의 평균이다. 오른쪽이 8이므로 더 높다."
      ],
      "metadata": {
        "id": "9RQsH1hzL_1V"
      }
    },
    {
      "cell_type": "markdown",
      "source": [
        "###3. 대량의 데이터 세트에서 경사 하강법을 수행할 때 배치 크기는 어느 정도로 하여야 할까?\n",
        "- 배치의 크기를 너무 크게 할 시, 지역 최소값 문제가 나타 날 수 있다. 전역 최소값을 얻기위해 발산이 일어나지 않도록 배치 크기를 조정한다."
      ],
      "metadata": {
        "id": "fRqEBOP6MSSR"
      }
    },
    {
      "cell_type": "markdown",
      "source": [
        "### 4. 본문의 참고 박스에서 이야기한대로 독립 변수와 종속 변수가 각각 하나인 선형 회귀에서 손실 함수의 형태는 2차 함수로 단순하기 때문에 분석적인 방법으로도 최소값을 계산할 수 있다. 위의 수식 계산을 파이썬 프로그램으로 구현해보자. 경사 하강법과 비교해보자. 차이가 있는가? 이렇게 분석적인 방법으로 계산할 수 있는데, 어떠한 경우에 경사 하강법을 사용하는가?\n",
        "- 경사 하강법과의 차이 : 손실 함수가 어떤 형태이라도, 또 매개 변수가 아무리 많아도 적용할 수 있는 일반적인 방법이다. 또 데이터가 추가되면, 분석적인 방법에서는 전체를 다시 계산해야하지만, 경사 하강법에서는 추가적인 데이터만 처리하여 점진적인 학습이 가능하다.\n",
        "- 어떠한 경우에 경사 하강법을 사용하는가? : 추가적인 데이터가 늘어날 가능성이 있는 경우."
      ],
      "metadata": {
        "id": "Uhzraay9MvvH"
      }
    },
    {
      "cell_type": "markdown",
      "source": [
        "### 5. 다음 표는 어떤 회사의 연도별 매출 실적을 정리한 표이다.\n",
        "1. 선형회귀로 분석하여 직선의 방정식 y = mx + b를 찾아보자. 본문의 프로그램을 이용해도 좋다.\n",
        "2. 선형회귀를 이용하여 2020년의 매출을 예측해보자."
      ],
      "metadata": {
        "id": "M0Kv1gZdPDAu"
      }
    },
    {
      "cell_type": "code",
      "source": [
        "#1. 선형회귀로 분석하여 직선의 방정식 y = mx + b를 찾아보자. 본문의 프로그램을 이용해도 좋다.\n",
        "import matplotlib.pylab as plt\n",
        "from sklearn import linear_model\n",
        "\n",
        "reg = linear_model.LinearRegression()\n",
        "\n",
        "X = [[2015],[2016],[2017],[2018],[2019]]\n",
        "y = [12, 19, 28, 37, 46]\n",
        "\n",
        "reg.fit(X, y)\n",
        "\n",
        "print(\"m : \", reg.coef_)\n",
        "print(\"b : \", reg.intercept_)\n",
        "print(\"2020년 매출 예측 : \", reg.predict([[2020]]))\n",
        "\n",
        "plt.scatter(X, y, color = 'black')\n",
        "\n",
        "y_pred = reg.predict(X)\n",
        "\n",
        "plt.plot(X, y_pred, color = 'blue', linewidth = 3)\n",
        "plt.show()"
      ],
      "metadata": {
        "colab": {
          "base_uri": "https://localhost:8080/",
          "height": 320
        },
        "id": "2pbTlPh3QXVN",
        "outputId": "e67d59e5-a56a-4c5b-8fcd-bd23ec42eca1"
      },
      "execution_count": 19,
      "outputs": [
        {
          "output_type": "stream",
          "name": "stdout",
          "text": [
            "m :  [8.6]\n",
            "b :  -17317.800000000007\n",
            "2020년 매출 예측 :  [54.2]\n"
          ]
        },
        {
          "output_type": "display_data",
          "data": {
            "text/plain": [
              "<Figure size 432x288 with 1 Axes>"
            ],
            "image/png": "[encoded data removed]"
          },
          "metadata": {
            "needs_background": "light"
          }
        }
      ]
    },
    {
      "cell_type": "markdown",
      "source": [
        "### 6. 다음 표는 출생연도와 기대 수명을 정리한 표이다.\n",
        "1. 선형회귀로 분석하여 직선의 방정식 y = mx + b를 찾아보자. 본문의 프로그램을 이용해도 좋다.\n",
        "2. 1962년생의 기대 수명은 얼마인가?"
      ],
      "metadata": {
        "id": "UyG3JW_b3bdz"
      }
    },
    {
      "cell_type": "code",
      "source": [
        "import matplotlib.pylab as plt\n",
        "from sklearn import linear_model\n",
        "\n",
        "reg = linear_model.LinearRegression()\n",
        "\n",
        "X = [[1930], [1940], [1950], [1960], [1970], [1980], [1990], [2010], [2016]]\n",
        "y = [59, 62, 70, 69, 71, 74, 75, 76, 78]\n",
        "\n",
        "reg.fit(X, y)\n",
        "\n",
        "print(\"m : \", reg.coef_)\n",
        "print(\"b : \", reg.intercept_)\n",
        "print(\"1962년생의 기대 수명 : \", reg.predict([[1962]]))\n",
        "\n",
        "plt.scatter(X, y, color = 'black')\n",
        "\n",
        "y_pred = reg.predict(X)\n",
        "\n",
        "plt.plot(X, y_pred, color = 'blue', linewidth = 3)\n",
        "plt.show()"
      ],
      "metadata": {
        "colab": {
          "base_uri": "https://localhost:8080/",
          "height": 322
        },
        "id": "nSrEaAmt309n",
        "outputId": "7a72b245-3b8b-41cd-c100-c5714a8cc7be"
      },
      "execution_count": 21,
      "outputs": [
        {
          "output_type": "stream",
          "name": "stdout",
          "text": [
            "m :  [0.19907865]\n",
            "b :  -322.0944224585705\n",
            "1962년생의 기대 수명 :  [68.4978976]\n"
          ]
        },
        {
          "output_type": "display_data",
          "data": {
            "text/plain": [
              "<Figure size 432x288 with 1 Axes>"
            ],
            "image/png": "[encoded data removed]"
          },
          "metadata": {
            "needs_background": "light"
          }
        }
      ]
    },
    {
      "cell_type": "markdown",
      "source": [
        "#7. 우리는 간단한 실습으로 선형 회귀에 대한 개념을 잡아보자. 학생들의 시험 공부 시간과 성적은 어느 정도 비례할 것으로 예측된다. 시험 공부 시간을 x라고 하고 성적을 y로 나타내자. x와 y사이의 관계를 설명하는 직선을 찾아보자."
      ],
      "metadata": {
        "id": "1s4Z1j-O6qKl"
      }
    },
    {
      "cell_type": "code",
      "source": [
        "import matplotlib.pylab as plt\n",
        "from sklearn import linear_model\n",
        "\n",
        "reg = linear_model.LinearRegression()\n",
        "\n",
        "X = [[30],[35],[20],[15],[3]]\n",
        "y = [90, 95, 70, 40, 10]\n",
        "\n",
        "reg.fit(X, y)\n",
        "\n",
        "print(\"m : \", reg.coef_)\n",
        "print(\"b : \", reg.intercept_)\n",
        "\n",
        "plt.scatter(X, y, color = 'black')\n",
        "\n",
        "y_pred = reg.predict(X)\n",
        "\n",
        "plt.plot(X, y_pred, color = 'blue', linewidth = 3)\n",
        "plt.show()"
      ],
      "metadata": {
        "colab": {
          "base_uri": "https://localhost:8080/",
          "height": 302
        },
        "id": "hrxKxOrQ66BT",
        "outputId": "36f21350-14de-47d0-8a51-954b7ccbb124"
      },
      "execution_count": 22,
      "outputs": [
        {
          "output_type": "stream",
          "name": "stdout",
          "text": [
            "m :  [2.78091651]\n",
            "b :  3.713119899560553\n"
          ]
        },
        {
          "output_type": "display_data",
          "data": {
            "text/plain": [
              "<Figure size 432x288 with 1 Axes>"
            ],
            "image/png": "[encoded data removed]"
          },
          "metadata": {
            "needs_background": "light"
          }
        }
      ]
    }
  ]
}