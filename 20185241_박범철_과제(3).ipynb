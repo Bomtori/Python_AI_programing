{
  "nbformat": 4,
  "nbformat_minor": 0,
  "metadata": {
    "colab": {
      "provenance": [],
      "collapsed_sections": []
    },
    "kernelspec": {
      "name": "python3",
      "display_name": "Python 3"
    },
    "language_info": {
      "name": "python"
    }
  },
  "cells": [
    {
      "cell_type": "code",
      "execution_count": 1,
      "metadata": {
        "colab": {
          "base_uri": "https://localhost:8080/",
          "height": 469
        },
        "id": "hcsijEfDgmTK",
        "outputId": "9eebfdc0-5f40-4636-a0e8-fdafe0557218"
      },
      "outputs": [
        {
          "output_type": "display_data",
          "data": {
            "text/plain": [
              "<Figure size 432x288 with 1 Axes>"
            ],
            "image/png": "[encoded data removed]"
          },
          "metadata": {
            "needs_background": "light"
          }
        },
        {
          "output_type": "stream",
          "name": "stdout",
          "text": [
            "    xx    yy        yy2      diff\n",
            "0  0.0   5.0   4.906856 -0.093144\n",
            "1  1.0   7.0  10.578721  3.578721\n",
            "2  2.0   9.0  10.588357  1.588357\n",
            "3  3.0  11.0  12.077810  1.077810\n",
            "4  4.0  13.0  12.742794 -0.257206\n",
            "5  5.0  15.0  14.852346 -0.147654\n",
            "6  6.0  17.0  15.632370 -1.367630\n",
            "7  7.0  19.0  14.522814 -4.477186\n",
            "8  8.0  21.0  17.199216 -3.800784\n",
            "9  9.0  23.0  23.215462  0.215462\n",
            "MSE : 5.2996421372839\n"
          ]
        }
      ],
      "source": [
        "import matplotlib.pyplot as plt\n",
        "import numpy as np\n",
        "from sklearn.metrics import mean_squared_error\n",
        "import pandas as pd\n",
        "\n",
        "xx = np.arange(10)\n",
        "yy = 2*xx + 5\n",
        "yy2 = np.random.randn(10)*2 + yy\n",
        "diff = yy2 - yy\n",
        "plt.plot(xx,yy)\n",
        "plt.plot(xx,yy2,'o')\n",
        "plt.grid()\n",
        "plt.show()\n",
        "\n",
        "data = pd.DataFrame(\n",
        "    {'xx' : xx,\n",
        "     'yy' : yy,\n",
        "     'yy2' : yy2,\n",
        "     'diff' : diff})\n",
        "data2 = data.astype(float)\n",
        "print(data2)\n",
        "\n",
        "mse = mean_squared_error(yy,yy2)\n",
        "print(f\"MSE : {mse}\")\n",
        "\n",
        "# mse = np.square(np.subtract(yy, yy2)).mean()\n",
        "# mse"
      ]
    },
    {
      "cell_type": "code",
      "source": [],
      "metadata": {
        "id": "r-8CTolHws8u"
      },
      "execution_count": null,
      "outputs": []
    }
  ]
}